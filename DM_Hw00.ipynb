{
  "cells": [
    {
      "cell_type": "markdown",
      "metadata": {
        "id": "lQ4UEYbg-GnD"
      },
      "source": [
        "Name: Anil Kumar Medarametla\n",
        "\n",
        "\n",
        "Student ID: 999902350"
      ]
    },
    {
      "cell_type": "markdown",
      "metadata": {
        "id": "6Dn8NMOt-R76"
      },
      "source": [
        "# 1. (30%) Perfom basic data engineering in Python using Gutenberg.org text of Bertrand Russell’s 1912 work The Problems of Philosophy"
      ]
    },
    {
      "cell_type": "markdown",
      "metadata": {
        "id": "JIAmXDP15Lc9"
      },
      "source": [
        "## Parse and Tokenize the Text File"
      ]
    },
    {
      "cell_type": "code",
      "execution_count": 52,
      "metadata": {
        "id": "ltIzdY2Y4bOY"
      },
      "outputs": [],
      "source": [
        "import re\n",
        "from collections import Counter\n",
        "import csv\n",
        "\n",
        "# Read the text file\n",
        "with open(\"pg5827.txt\", \"r\", encoding=\"utf-8\") as file:\n",
        "    text = file.read()\n",
        "\n",
        "# Tokenize and preprocess the text\n",
        "words = re.findall(r'\\b\\w+\\b', text.lower())  # Tokenization and lowercase conversion\n",
        "word_counts = Counter(words)  # Count word frequencies\n",
        "\n",
        "# Write the results to a CSV file\n",
        "with open(\"all_words.csv\", \"w\", newline=\"\", encoding=\"utf-8\") as csvfile:\n",
        "    csv_writer = csv.writer(csvfile)\n",
        "    csv_writer.writerows(word_counts.items())\n"
      ]
    },
    {
      "cell_type": "markdown",
      "metadata": {
        "id": "xAzm0x2d5Rmv"
      },
      "source": [
        "## Get Capitalized Words"
      ]
    },
    {
      "cell_type": "code",
      "execution_count": 53,
      "metadata": {
        "colab": {
          "base_uri": "https://localhost:8080/"
        },
        "id": "xelavppb5wYT",
        "outputId": "9fa2fbec-2903-416f-8154-8174723a3372"
      },
      "outputs": [
        {
          "name": "stdout",
          "output_type": "stream",
          "text": [
            "Sample capitalized words: []\n"
          ]
        }
      ],
      "source": [
        "import re\n",
        "from collections import Counter\n",
        "import csv\n",
        "\n",
        "# Read the text file\n",
        "with open(\"pg5827.txt\", \"r\", encoding=\"utf-8\") as file:\n",
        "    text = file.read()\n",
        "\n",
        "# Tokenize and preprocess the text for capitalized words\n",
        "words = re.findall(r'\\b\\w+\\b', text.lower())  # Tokenization and lowercase conversion\n",
        "capitalized_words = [word for word in words if word.istitle()]  # Retain only capitalized words\n",
        "\n",
        "# Print a few capitalized words to check\n",
        "print(\"Sample capitalized words:\", capitalized_words[:10])\n",
        "\n",
        "capitalized_word_counts = Counter(capitalized_words)  # Count capitalized word frequencies\n",
        "\n",
        "# Write the results to a CSV file\n",
        "with open(\"all_uppercase_words.csv\", \"w\", newline=\"\", encoding=\"utf-8\") as csvfile:\n",
        "    csv_writer = csv.writer(csvfile)\n",
        "    csv_writer.writerows(capitalized_word_counts.items())\n"
      ]
    },
    {
      "cell_type": "markdown",
      "metadata": {
        "id": "BkNx1ZCO7LAC"
      },
      "source": [
        "##  Task: Answer the following questions:"
      ]
    },
    {
      "cell_type": "code",
      "execution_count": 54,
      "metadata": {
        "id": "iKD6d87R5ZEh"
      },
      "outputs": [],
      "source": [
        "# Load the data from the CSV files\n",
        "import pandas as pd\n",
        "\n",
        "# Loading the CSV files into dataframes\n",
        "all_words_df = pd.read_csv(\"all_words.csv\", header=None, names=[\"Word\", \"Frequency\"])\n",
        "all_uppercase_words_df = pd.read_csv(\"all_uppercase_words.csv\", header=None, names=[\"Word\", \"Frequency\"])\n",
        "\n",
        "# Sort the dataframes by frequency in descending order\n",
        "all_words_df = all_words_df.sort_values(by=\"Frequency\", ascending=False)\n",
        "all_uppercase_words_df = all_uppercase_words_df.sort_values(by=\"Frequency\", ascending=False)\n"
      ]
    },
    {
      "cell_type": "code",
      "execution_count": 55,
      "metadata": {
        "id": "DNHiHvrN7FSR"
      },
      "outputs": [],
      "source": [
        "# 1. The five most frequent words in all_words.csv\n",
        "top_5_words_all_words = all_words_df.head(5)\n",
        "\n",
        "# 2. The five most frequent words in all_uppercase_words.csv\n",
        "top_5_words_all_uppercase = all_uppercase_words_df.head(5)"
      ]
    },
    {
      "cell_type": "code",
      "execution_count": 56,
      "metadata": {
        "colab": {
          "base_uri": "https://localhost:8080/"
        },
        "id": "VOIVFNfP68LZ",
        "outputId": "8bfaac4d-5cf2-4629-87df-d0e190bc2579"
      },
      "outputs": [
        {
          "name": "stdout",
          "output_type": "stream",
          "text": [
            "Top 5 words in all_words.csv:\n",
            "   Word  Frequency\n",
            "0   the       2729\n",
            "4    of       1883\n",
            "8    is       1325\n",
            "49   to       1269\n",
            "16  and       1036\n",
            "\n",
            "Top 5 words in all_uppercase_words.csv:\n",
            "Empty DataFrame\n",
            "Columns: [Word, Frequency]\n",
            "Index: []\n"
          ]
        }
      ],
      "source": [
        "# 3. Compare and contrast these top 5\n",
        "# Print the top 5 words and their frequencies for both datasets\n",
        "print(\"Top 5 words in all_words.csv:\")\n",
        "print(top_5_words_all_words)\n",
        "\n",
        "print(\"\\nTop 5 words in all_uppercase_words.csv:\")\n",
        "print(top_5_words_all_uppercase)"
      ]
    },
    {
      "cell_type": "markdown",
      "metadata": {
        "id": "6bs_ie7G6fVZ"
      },
      "source": [
        "### 4. In your own words, what were the most surprising parts of each list?\n",
        "### Provide your own observations and explanations"
      ]
    },
    {
      "cell_type": "code",
      "execution_count": 57,
      "metadata": {
        "colab": {
          "base_uri": "https://localhost:8080/"
        },
        "id": "uxpt8t4J6et5",
        "outputId": "df48b927-64f9-4a62-dc32-dae95d8db46b"
      },
      "outputs": [
        {
          "name": "stdout",
          "output_type": "stream",
          "text": [
            "\n",
            "Observations:\n",
            "The most surprising part of the 'all_words.csv' list is the high frequency of common stopwords like 'the' and 'of', which typically do not carry significant meaning on their own.\n",
            "In 'all_uppercase_words.csv', Does not have capitilized words\n"
          ]
        }
      ],
      "source": [
        "print(\"\\nObservations:\")\n",
        "print(\"The most surprising part of the 'all_words.csv' list is the high frequency of common stopwords like 'the' and 'of', which typically do not carry significant meaning on their own.\")\n",
        "print(\"In 'all_uppercase_words.csv', Does not have capitilized words\")\n"
      ]
    },
    {
      "cell_type": "code",
      "execution_count": 57,
      "metadata": {
        "id": "8njYL7ky6h9l"
      },
      "outputs": [],
      "source": []
    },
    {
      "cell_type": "markdown",
      "metadata": {
        "id": "SNqNABJv8TbH"
      },
      "source": [
        "# 2.  (30%) Use structured data to develop basic statistical analyses"
      ]
    },
    {
      "cell_type": "markdown",
      "metadata": {
        "id": "KIbvlykw8Kza"
      },
      "source": [
        "## Remove Stopwords and Create all_ns_words.csv"
      ]
    },
    {
      "cell_type": "code",
      "execution_count": 58,
      "metadata": {
        "id": "tYDJv2ah8Lui"
      },
      "outputs": [],
      "source": [
        "# Download the stopwords list and read it into a Python list\n",
        "import requests\n",
        "\n",
        "stopwords_url = \"https://raw.githubusercontent.com/stopwords-iso/stopwords-en/master/stopwords-en.txt\"\n",
        "response = requests.get(stopwords_url)\n",
        "stopwords = response.text.splitlines()\n",
        "\n",
        "# Load the data from all_words.csv\n",
        "all_words_df = pd.read_csv(\"all_words.csv\", header=None, names=[\"Word\", \"Frequency\"])\n",
        "\n",
        "# Remove stopwords\n",
        "all_ns_words_df = all_words_df[~all_words_df[\"Word\"].isin(stopwords)]\n",
        "\n",
        "# Save the remaining non-stopwords to all_ns_words.csv\n",
        "all_ns_words_df.to_csv(\"all_ns_words.csv\", index=False, header=False)\n"
      ]
    },
    {
      "cell_type": "markdown",
      "metadata": {
        "id": "J6GC8sB98a8t"
      },
      "source": [
        "## Calculate Probabilities and Add a New Column"
      ]
    },
    {
      "cell_type": "code",
      "execution_count": 59,
      "metadata": {
        "colab": {
          "base_uri": "https://localhost:8080/"
        },
        "id": "XgQr8kDJ8Ne-",
        "outputId": "8e97644f-db10-4c98-ebec-0bcae49cab49"
      },
      "outputs": [
        {
          "name": "stderr",
          "output_type": "stream",
          "text": [
            "<ipython-input-59-aafbf411ea4e>:5: SettingWithCopyWarning: \n",
            "A value is trying to be set on a copy of a slice from a DataFrame.\n",
            "Try using .loc[row_indexer,col_indexer] = value instead\n",
            "\n",
            "See the caveats in the documentation: https://pandas.pydata.org/pandas-docs/stable/user_guide/indexing.html#returning-a-view-versus-a-copy\n",
            "  all_ns_words_df.loc[:, \"Probability\"] = all_ns_words_df[\"Frequency\"] / total_non_stopword_frequency\n"
          ]
        }
      ],
      "source": [
        "# Calculate the probability for each non-stopword\n",
        "total_non_stopword_frequency = all_ns_words_df[\"Frequency\"].sum()\n",
        "\n",
        "# Use .loc to set the values without raising the warning\n",
        "all_ns_words_df.loc[:, \"Probability\"] = all_ns_words_df[\"Frequency\"] / total_non_stopword_frequency\n",
        "\n",
        "# Save the updated dataframe to all_ns_words.csv\n",
        "all_ns_words_df.to_csv(\"all_ns_words.csv\", index=False, header=False)\n"
      ]
    },
    {
      "cell_type": "code",
      "execution_count": 60,
      "metadata": {
        "colab": {
          "base_uri": "https://localhost:8080/",
          "height": 206
        },
        "id": "03mcRmKf8k7r",
        "outputId": "4454691e-ac60-45f7-a912-c0d72e730dcb"
      },
      "outputs": [
        {
          "data": {
            "text/html": [
              "\n",
              "  <div id=\"df-2ebe4cff-5461-41bf-8410-5b01423cc9f3\" class=\"colab-df-container\">\n",
              "    <div>\n",
              "<style scoped>\n",
              "    .dataframe tbody tr th:only-of-type {\n",
              "        vertical-align: middle;\n",
              "    }\n",
              "\n",
              "    .dataframe tbody tr th {\n",
              "        vertical-align: top;\n",
              "    }\n",
              "\n",
              "    .dataframe thead th {\n",
              "        text-align: right;\n",
              "    }\n",
              "</style>\n",
              "<table border=\"1\" class=\"dataframe\">\n",
              "  <thead>\n",
              "    <tr style=\"text-align: right;\">\n",
              "      <th></th>\n",
              "      <th>project</th>\n",
              "      <th>89</th>\n",
              "      <th>0.006467553230143158</th>\n",
              "    </tr>\n",
              "  </thead>\n",
              "  <tbody>\n",
              "    <tr>\n",
              "      <th>0</th>\n",
              "      <td>gutenberg</td>\n",
              "      <td>98</td>\n",
              "      <td>0.007122</td>\n",
              "    </tr>\n",
              "    <tr>\n",
              "      <th>1</th>\n",
              "      <td>ebook</td>\n",
              "      <td>13</td>\n",
              "      <td>0.000945</td>\n",
              "    </tr>\n",
              "    <tr>\n",
              "      <th>2</th>\n",
              "      <td>philosophy</td>\n",
              "      <td>85</td>\n",
              "      <td>0.006177</td>\n",
              "    </tr>\n",
              "    <tr>\n",
              "      <th>3</th>\n",
              "      <td>united</td>\n",
              "      <td>18</td>\n",
              "      <td>0.001308</td>\n",
              "    </tr>\n",
              "    <tr>\n",
              "      <th>4</th>\n",
              "      <td>cost</td>\n",
              "      <td>3</td>\n",
              "      <td>0.000218</td>\n",
              "    </tr>\n",
              "  </tbody>\n",
              "</table>\n",
              "</div>\n",
              "    <div class=\"colab-df-buttons\">\n",
              "\n",
              "  <div class=\"colab-df-container\">\n",
              "    <button class=\"colab-df-convert\" onclick=\"convertToInteractive('df-2ebe4cff-5461-41bf-8410-5b01423cc9f3')\"\n",
              "            title=\"Convert this dataframe to an interactive table.\"\n",
              "            style=\"display:none;\">\n",
              "\n",
              "  <svg xmlns=\"http://www.w3.org/2000/svg\" height=\"24px\" viewBox=\"0 -960 960 960\">\n",
              "    <path d=\"M120-120v-720h720v720H120Zm60-500h600v-160H180v160Zm220 220h160v-160H400v160Zm0 220h160v-160H400v160ZM180-400h160v-160H180v160Zm440 0h160v-160H620v160ZM180-180h160v-160H180v160Zm440 0h160v-160H620v160Z\"/>\n",
              "  </svg>\n",
              "    </button>\n",
              "\n",
              "  <style>\n",
              "    .colab-df-container {\n",
              "      display:flex;\n",
              "      gap: 12px;\n",
              "    }\n",
              "\n",
              "    .colab-df-convert {\n",
              "      background-color: #E8F0FE;\n",
              "      border: none;\n",
              "      border-radius: 50%;\n",
              "      cursor: pointer;\n",
              "      display: none;\n",
              "      fill: #1967D2;\n",
              "      height: 32px;\n",
              "      padding: 0 0 0 0;\n",
              "      width: 32px;\n",
              "    }\n",
              "\n",
              "    .colab-df-convert:hover {\n",
              "      background-color: #E2EBFA;\n",
              "      box-shadow: 0px 1px 2px rgba(60, 64, 67, 0.3), 0px 1px 3px 1px rgba(60, 64, 67, 0.15);\n",
              "      fill: #174EA6;\n",
              "    }\n",
              "\n",
              "    .colab-df-buttons div {\n",
              "      margin-bottom: 4px;\n",
              "    }\n",
              "\n",
              "    [theme=dark] .colab-df-convert {\n",
              "      background-color: #3B4455;\n",
              "      fill: #D2E3FC;\n",
              "    }\n",
              "\n",
              "    [theme=dark] .colab-df-convert:hover {\n",
              "      background-color: #434B5C;\n",
              "      box-shadow: 0px 1px 3px 1px rgba(0, 0, 0, 0.15);\n",
              "      filter: drop-shadow(0px 1px 2px rgba(0, 0, 0, 0.3));\n",
              "      fill: #FFFFFF;\n",
              "    }\n",
              "  </style>\n",
              "\n",
              "    <script>\n",
              "      const buttonEl =\n",
              "        document.querySelector('#df-2ebe4cff-5461-41bf-8410-5b01423cc9f3 button.colab-df-convert');\n",
              "      buttonEl.style.display =\n",
              "        google.colab.kernel.accessAllowed ? 'block' : 'none';\n",
              "\n",
              "      async function convertToInteractive(key) {\n",
              "        const element = document.querySelector('#df-2ebe4cff-5461-41bf-8410-5b01423cc9f3');\n",
              "        const dataTable =\n",
              "          await google.colab.kernel.invokeFunction('convertToInteractive',\n",
              "                                                    [key], {});\n",
              "        if (!dataTable) return;\n",
              "\n",
              "        const docLinkHtml = 'Like what you see? Visit the ' +\n",
              "          '<a target=\"_blank\" href=https://colab.research.google.com/notebooks/data_table.ipynb>data table notebook</a>'\n",
              "          + ' to learn more about interactive tables.';\n",
              "        element.innerHTML = '';\n",
              "        dataTable['output_type'] = 'display_data';\n",
              "        await google.colab.output.renderOutput(dataTable, element);\n",
              "        const docLink = document.createElement('div');\n",
              "        docLink.innerHTML = docLinkHtml;\n",
              "        element.appendChild(docLink);\n",
              "      }\n",
              "    </script>\n",
              "  </div>\n",
              "\n",
              "\n",
              "<div id=\"df-93142afb-e260-467c-908e-78ac74403162\">\n",
              "  <button class=\"colab-df-quickchart\" onclick=\"quickchart('df-93142afb-e260-467c-908e-78ac74403162')\"\n",
              "            title=\"Suggest charts.\"\n",
              "            style=\"display:none;\">\n",
              "\n",
              "<svg xmlns=\"http://www.w3.org/2000/svg\" height=\"24px\"viewBox=\"0 0 24 24\"\n",
              "     width=\"24px\">\n",
              "    <g>\n",
              "        <path d=\"M19 3H5c-1.1 0-2 .9-2 2v14c0 1.1.9 2 2 2h14c1.1 0 2-.9 2-2V5c0-1.1-.9-2-2-2zM9 17H7v-7h2v7zm4 0h-2V7h2v10zm4 0h-2v-4h2v4z\"/>\n",
              "    </g>\n",
              "</svg>\n",
              "  </button>\n",
              "\n",
              "<style>\n",
              "  .colab-df-quickchart {\n",
              "      --bg-color: #E8F0FE;\n",
              "      --fill-color: #1967D2;\n",
              "      --hover-bg-color: #E2EBFA;\n",
              "      --hover-fill-color: #174EA6;\n",
              "      --disabled-fill-color: #AAA;\n",
              "      --disabled-bg-color: #DDD;\n",
              "  }\n",
              "\n",
              "  [theme=dark] .colab-df-quickchart {\n",
              "      --bg-color: #3B4455;\n",
              "      --fill-color: #D2E3FC;\n",
              "      --hover-bg-color: #434B5C;\n",
              "      --hover-fill-color: #FFFFFF;\n",
              "      --disabled-bg-color: #3B4455;\n",
              "      --disabled-fill-color: #666;\n",
              "  }\n",
              "\n",
              "  .colab-df-quickchart {\n",
              "    background-color: var(--bg-color);\n",
              "    border: none;\n",
              "    border-radius: 50%;\n",
              "    cursor: pointer;\n",
              "    display: none;\n",
              "    fill: var(--fill-color);\n",
              "    height: 32px;\n",
              "    padding: 0;\n",
              "    width: 32px;\n",
              "  }\n",
              "\n",
              "  .colab-df-quickchart:hover {\n",
              "    background-color: var(--hover-bg-color);\n",
              "    box-shadow: 0 1px 2px rgba(60, 64, 67, 0.3), 0 1px 3px 1px rgba(60, 64, 67, 0.15);\n",
              "    fill: var(--button-hover-fill-color);\n",
              "  }\n",
              "\n",
              "  .colab-df-quickchart-complete:disabled,\n",
              "  .colab-df-quickchart-complete:disabled:hover {\n",
              "    background-color: var(--disabled-bg-color);\n",
              "    fill: var(--disabled-fill-color);\n",
              "    box-shadow: none;\n",
              "  }\n",
              "\n",
              "  .colab-df-spinner {\n",
              "    border: 2px solid var(--fill-color);\n",
              "    border-color: transparent;\n",
              "    border-bottom-color: var(--fill-color);\n",
              "    animation:\n",
              "      spin 1s steps(1) infinite;\n",
              "  }\n",
              "\n",
              "  @keyframes spin {\n",
              "    0% {\n",
              "      border-color: transparent;\n",
              "      border-bottom-color: var(--fill-color);\n",
              "      border-left-color: var(--fill-color);\n",
              "    }\n",
              "    20% {\n",
              "      border-color: transparent;\n",
              "      border-left-color: var(--fill-color);\n",
              "      border-top-color: var(--fill-color);\n",
              "    }\n",
              "    30% {\n",
              "      border-color: transparent;\n",
              "      border-left-color: var(--fill-color);\n",
              "      border-top-color: var(--fill-color);\n",
              "      border-right-color: var(--fill-color);\n",
              "    }\n",
              "    40% {\n",
              "      border-color: transparent;\n",
              "      border-right-color: var(--fill-color);\n",
              "      border-top-color: var(--fill-color);\n",
              "    }\n",
              "    60% {\n",
              "      border-color: transparent;\n",
              "      border-right-color: var(--fill-color);\n",
              "    }\n",
              "    80% {\n",
              "      border-color: transparent;\n",
              "      border-right-color: var(--fill-color);\n",
              "      border-bottom-color: var(--fill-color);\n",
              "    }\n",
              "    90% {\n",
              "      border-color: transparent;\n",
              "      border-bottom-color: var(--fill-color);\n",
              "    }\n",
              "  }\n",
              "</style>\n",
              "\n",
              "  <script>\n",
              "    async function quickchart(key) {\n",
              "      const quickchartButtonEl =\n",
              "        document.querySelector('#' + key + ' button');\n",
              "      quickchartButtonEl.disabled = true;  // To prevent multiple clicks.\n",
              "      quickchartButtonEl.classList.add('colab-df-spinner');\n",
              "      try {\n",
              "        const charts = await google.colab.kernel.invokeFunction(\n",
              "            'suggestCharts', [key], {});\n",
              "      } catch (error) {\n",
              "        console.error('Error during call to suggestCharts:', error);\n",
              "      }\n",
              "      quickchartButtonEl.classList.remove('colab-df-spinner');\n",
              "      quickchartButtonEl.classList.add('colab-df-quickchart-complete');\n",
              "    }\n",
              "    (() => {\n",
              "      let quickchartButtonEl =\n",
              "        document.querySelector('#df-93142afb-e260-467c-908e-78ac74403162 button');\n",
              "      quickchartButtonEl.style.display =\n",
              "        google.colab.kernel.accessAllowed ? 'block' : 'none';\n",
              "    })();\n",
              "  </script>\n",
              "</div>\n",
              "    </div>\n",
              "  </div>\n"
            ],
            "text/plain": [
              "      project  89  0.006467553230143158\n",
              "0   gutenberg  98              0.007122\n",
              "1       ebook  13              0.000945\n",
              "2  philosophy  85              0.006177\n",
              "3      united  18              0.001308\n",
              "4        cost   3              0.000218"
            ]
          },
          "execution_count": 60,
          "metadata": {},
          "output_type": "execute_result"
        }
      ],
      "source": [
        "df=pd.read_csv(\"all_ns_words.csv\")\n",
        "df.head() # display the fist five rows"
      ]
    },
    {
      "cell_type": "markdown",
      "metadata": {
        "id": "JTp2WRAZ86NM"
      },
      "source": [
        "## Answer the Questions:"
      ]
    },
    {
      "cell_type": "markdown",
      "metadata": {
        "id": "PlJlIykv9CE6"
      },
      "source": [
        "1. To find the number of unique non-stop words, we can count the rows in the all_ns_words.csv dataframe."
      ]
    },
    {
      "cell_type": "code",
      "execution_count": 61,
      "metadata": {
        "colab": {
          "base_uri": "https://localhost:8080/"
        },
        "id": "hgpUAepY8t1M",
        "outputId": "607b52ea-bd1e-400e-b17a-e790b215c188"
      },
      "outputs": [
        {
          "name": "stdout",
          "output_type": "stream",
          "text": [
            "1. Number of unique non-stop words: 2987\n"
          ]
        }
      ],
      "source": [
        "unique_non_stopword_count = len(all_ns_words_df)\n",
        "print(f\"1. Number of unique non-stop words: {unique_non_stopword_count}\")\n"
      ]
    },
    {
      "cell_type": "markdown",
      "metadata": {
        "id": "gd8oH5rr9P69"
      },
      "source": [
        "To identify the least probable word, we use the idxmin() function to find the row with the minimum probability."
      ]
    },
    {
      "cell_type": "code",
      "execution_count": 62,
      "metadata": {
        "colab": {
          "base_uri": "https://localhost:8080/"
        },
        "id": "gfiezdC69Leq",
        "outputId": "65e6537a-fa0a-4fb3-f10c-108c393ac06e"
      },
      "outputs": [
        {
          "name": "stdout",
          "output_type": "stream",
          "text": [
            "2. Least probable word: title (Probability: 0.00007)\n"
          ]
        }
      ],
      "source": [
        "least_probable_word = all_ns_words_df.loc[all_ns_words_df[\"Probability\"].idxmin(), \"Word\"]\n",
        "min_probability = all_ns_words_df[\"Probability\"].min()\n",
        "print(f\"2. Least probable word: {least_probable_word} (Probability: {min_probability:.5f})\")\n"
      ]
    },
    {
      "cell_type": "markdown",
      "metadata": {
        "id": "BS92oj519WNl"
      },
      "source": [
        "To make observations about the probabilities, we need to analyze the distribution of probabilities, such as the mean, median, and variance"
      ]
    },
    {
      "cell_type": "code",
      "execution_count": 63,
      "metadata": {
        "colab": {
          "base_uri": "https://localhost:8080/"
        },
        "id": "NfmGGYyx9TV_",
        "outputId": "8fc54b02-0929-4d88-e084-f7426335c1cf"
      },
      "outputs": [
        {
          "name": "stdout",
          "output_type": "stream",
          "text": [
            "3. Mean Probability: 0.00033\n",
            "   Median Probability: 0.00015\n",
            "   Variance of Probability: 0.00000\n"
          ]
        }
      ],
      "source": [
        "mean_probability = all_ns_words_df[\"Probability\"].mean()\n",
        "median_probability = all_ns_words_df[\"Probability\"].median()\n",
        "variance_probability = all_ns_words_df[\"Probability\"].var()\n",
        "\n",
        "print(f\"3. Mean Probability: {mean_probability:.5f}\")\n",
        "print(f\"   Median Probability: {median_probability:.5f}\")\n",
        "print(f\"   Variance of Probability: {variance_probability:.5f}\")\n"
      ]
    },
    {
      "cell_type": "markdown",
      "metadata": {
        "id": "g_bPjFdA9fvJ"
      },
      "source": [
        "To determine which sentence is more likely, we need to calculate the sum of probabilities for each word in the sentence and compare them."
      ]
    },
    {
      "cell_type": "code",
      "execution_count": 64,
      "metadata": {
        "colab": {
          "base_uri": "https://localhost:8080/"
        },
        "id": "9X-Zg27W9cKE",
        "outputId": "d2f9ecc5-3f36-4f68-d3b4-eabfb75fc4ee"
      },
      "outputs": [
        {
          "name": "stdout",
          "output_type": "stream",
          "text": [
            "4. Sentence Probabilities:\n",
            "a. Probability: 0.00850\n",
            "b. Probability: 0.02282\n",
            "   Sentence b is more likely.\n"
          ]
        }
      ],
      "source": [
        "# Sentence a\n",
        "sentence_a = \"If a belief is true, it can be deduced it is universal.\"\n",
        "words_in_sentence_a = sentence_a.split()\n",
        "probability_a = all_ns_words_df[all_ns_words_df[\"Word\"].isin(words_in_sentence_a)][\"Probability\"].sum()\n",
        "\n",
        "# Sentence b\n",
        "sentence_b = \"Criticism of knowledge is counter to scientific results.\"\n",
        "words_in_sentence_b = sentence_b.split()\n",
        "probability_b = all_ns_words_df[all_ns_words_df[\"Word\"].isin(words_in_sentence_b)][\"Probability\"].sum()\n",
        "\n",
        "print(\"4. Sentence Probabilities:\")\n",
        "print(f\"a. Probability: {probability_a:.5f}\")\n",
        "print(f\"b. Probability: {probability_b:.5f}\")\n",
        "\n",
        "# Compare the probabilities\n",
        "if probability_a > probability_b:\n",
        "    print(\"   Sentence a is more likely.\")\n",
        "elif probability_b > probability_a:\n",
        "    print(\"   Sentence b is more likely.\")\n",
        "else:\n",
        "    print(\"   Both sentences have the same probability.\")\n"
      ]
    }
  ],
  "metadata": {
    "colab": {
      "provenance": []
    },
    "kernelspec": {
      "display_name": "Python 3",
      "name": "python3"
    },
    "language_info": {
      "name": "python"
    }
  },
  "nbformat": 4,
  "nbformat_minor": 0
}
